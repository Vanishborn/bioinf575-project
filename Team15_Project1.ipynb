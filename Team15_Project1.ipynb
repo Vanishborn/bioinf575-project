{
 "cells": [
  {
   "cell_type": "markdown",
   "id": "c59dd3af",
   "metadata": {},
   "source": [
    "# Team15_Project1\n",
    "\n",
    "This is the deliverable ipynb file for BIOINF 575 Bioinformatics project assignment.\n",
    "\n",
    "Team 15 members: John Larson, Henry Li, Ziyan Xu\n",
    "\n",
    "Project topic: Drug Annotation of 23andme Report"
   ]
  },
  {
   "cell_type": "markdown",
   "id": "769c9771",
   "metadata": {},
   "source": [
    "## Input Data\n",
    "\n",
    "`23andme_v5_hg19_ref.txt.gz` - retrieved at [23andme2vcf](https://github.com/arrogantrobot/23andme2vcf)\n",
    "\n",
    "`var_drug_ann.tsv` - retrieved at [ClinPGx](https://www.clinpgx.org/downloads) (previously PharmGKB) as variantAnnotations.zip\n",
    "\n",
    "the file was extracted and brought to the repository root directory for ease of access"
   ]
  },
  {
   "cell_type": "markdown",
   "id": "6a891a31",
   "metadata": {},
   "source": [
    "## Imports, Functions, and Translations"
   ]
  },
  {
   "cell_type": "code",
   "execution_count": 66,
   "id": "a9c3f71b",
   "metadata": {},
   "outputs": [],
   "source": [
    "import gzip"
   ]
  },
  {
   "cell_type": "code",
   "execution_count": null,
   "id": "76a348f0",
   "metadata": {},
   "outputs": [],
   "source": [
    "def getfp(filename):\n",
    "\t\"\"\"Returns a file pointer for reading based on file name\"\"\"\n",
    "\tif filename.endswith('.gz'):\n",
    "\t\treturn gzip.open(filename, 'rt', encoding='utf-8')\n",
    "\telse:\n",
    "\t\treturn open(filename, 'r', encoding='utf-8')\n",
    "\n",
    "\n",
    "def is_valid_allele(allele_entry):\n",
    "\t\"\"\"Checks if allele entry is valid\"\"\"\n",
    "\tallele_entry = allele_entry.strip().upper()\n",
    "\tif not allele_entry: # empty string\n",
    "\t\treturn False\n",
    "\tif any(x in allele_entry for x in [\"A\", \"C\", \"G\", \"T\", \"DEL\", \"/\", \"+\"]):\n",
    "\t\treturn True\n",
    "\treturn False\n",
    "\n",
    "\n",
    "def to_tsv(data_dict, filename, sep=\"\\t\", columns=None):\n",
    "\t\"\"\"Writes a dictionary of dictionaries to a TSV file.\"\"\"\n",
    "\twith open(filename, 'w') as fp:\n",
    "\t\t# write header\n",
    "\t\tif columns:\n",
    "\t\t\tfp.write(sep.join(columns) + \"\\n\")\n",
    "\t\telse:\n",
    "\t\t\t# no header, write all keys from the dictionary values\n",
    "\t\t\tfp.write(sep.join(next(iter(data_dict.values())).keys()) + \"\\n\")\n",
    "\n",
    "\t\t# write rows\n",
    "\t\tfor entry in data_dict.values():\n",
    "\t\t\tif columns:\n",
    "\t\t\t\trow = [entry.get(col, \"\") for col in columns]\n",
    "\t\t\telse:\n",
    "\t\t\t\trow = list(entry.values())\n",
    "\t\t\tfp.write(sep.join(row) + \"\\n\")"
   ]
  },
  {
   "cell_type": "code",
   "execution_count": null,
   "id": "0a0f006a",
   "metadata": {},
   "outputs": [],
   "source": [
    "char_trans_table = str.maketrans({\n",
    "\t'\"': '',        # remove quotes\n",
    "\t' ': ' ',       # U+00a0 - regular space\n",
    "\t' ': ' ',       # U+2009 - regular space\n",
    "\t' ': ' ',       # U+202F - regular space\n",
    "\t' ': ' ',       # U+2003 - regular space\n",
    "\t' ': ' ',       # U+2005 - regular space\n",
    "\t'–': '-',       # U+2013 - regular hyphen\n",
    "})"
   ]
  },
  {
   "cell_type": "markdown",
   "id": "a6beabea",
   "metadata": {},
   "source": [
    "## Task 1\n",
    "\n",
    "**Map/merge** the 23andme file and the variant-drug annotation file based on dbSNP_ID (aka rsID).\n",
    "\n",
    "The merged result should have the following columns:\n",
    "\n",
    "```\n",
    "dbSNP_ID, GENE_SYMBOL, DRUG_NAME, PMID, PHENOTYPE_CATEGORY, SIGNIFICANCE, NOTES, SENTENCE, ALLELE_PharmGKB (variant alleles in annotation), ALLELE_23andme (variant alleles in 23andme file)\n",
    "```"
   ]
  },
  {
   "cell_type": "code",
   "execution_count": null,
   "id": "3b7fbf51",
   "metadata": {},
   "outputs": [
    {
     "name": "stdout",
     "output_type": "stream",
     "text": [
      "9830\n"
     ]
    }
   ],
   "source": [
    "# read PharmGKB variant drug annotation file\n",
    "ann_entries = {}  # entryID -> {entry_info dict}\n",
    "\n",
    "with getfp('var_drug_ann.tsv') as fp:\n",
    "\t# get wanted column names\n",
    "\toldcols = fp.readline().strip().split('\\t')[1:10]\n",
    "\toldcols = [i.upper() for i in oldcols]\n",
    "\tcols = []\n",
    "\n",
    "\t# new column names\n",
    "\tfor col in oldcols:\n",
    "\t\tif col == 'VARIANT/HAPLOTYPES':\n",
    "\t\t\tcol = 'dbSNP_ID'\n",
    "\t\telif col == 'GENE':\n",
    "\t\t\tcol = 'GENE_SYMBOL'\n",
    "\t\telif col == 'DRUG(S)':\n",
    "\t\t\tcol = 'DRUG_NAME'\n",
    "\t\telif col == 'ALLELES':\n",
    "\t\t\tcol = 'ALLELE_PharmGKB'\n",
    "\t\tif ' ' in col:\n",
    "\t\t\tcol = col.replace(' ', '_')\n",
    "\t\tcols.append(col)\n",
    "\n",
    "\t# parse entries\n",
    "\tfor line in fp:\n",
    "\t\toriginal_fields = line.strip().split('\\t')\n",
    "\n",
    "\t\t# remove bad characters and unwanted quotes in fields\n",
    "\t\tfields = [\n",
    "\t\t\ti.translate(char_trans_table) for i in original_fields\n",
    "\t\t]\n",
    "\n",
    "\t\t# check second column for rsID presence\n",
    "\t\tif \"rs\" not in fields[1]:\n",
    "\t\t\tcontinue  # skip non-rsID entries\n",
    "\n",
    "\t\t# check allele validity\n",
    "\t\tif not is_valid_allele(fields[9]):\n",
    "\t\t\tcontinue  # skip invalid allele entries\n",
    "\n",
    "\t\tentryID = fields[0]\n",
    "\n",
    "\t\tentry_info = {}\n",
    "\t\tfor i, col in enumerate(cols):\n",
    "\t\t\tentry_info[col] = fields[i + 1]  # offset by 1\n",
    "\n",
    "\t\tann_entries[entryID] = entry_info  # entryID -> {entry_info dict}\n",
    "\n",
    "print(len(ann_entries))"
   ]
  },
  {
   "cell_type": "code",
   "execution_count": null,
   "id": "9d6bb546",
   "metadata": {},
   "outputs": [
    {
     "name": "stdout",
     "output_type": "stream",
     "text": [
      "620634\n"
     ]
    }
   ],
   "source": [
    "# read 23andMe v5 file\n",
    "snp_entries = {} # rsID -> allele\n",
    "\n",
    "with getfp('23andMe_v5_hg19_ref.txt.gz') as fp:\n",
    "\tfor line in fp:\n",
    "\t\tfields = line.strip().split('\\t')\n",
    "\t\trsID = fields[2]\n",
    "\n",
    "\t\t# check for rsID presence\n",
    "\t\tif \"rs\" not in rsID:\n",
    "\t\t\tcontinue\n",
    "\n",
    "\t\tsnp_entries[rsID] = fields[3] # rsID -> allele\n",
    "\n",
    "print(len(snp_entries))"
   ]
  },
  {
   "cell_type": "code",
   "execution_count": null,
   "id": "4876c419",
   "metadata": {},
   "outputs": [
    {
     "name": "stdout",
     "output_type": "stream",
     "text": [
      "6111\n"
     ]
    }
   ],
   "source": [
    "# merge results by rsID\n",
    "merged_entries = {} # entryID -> {entry_info dict + ALLELE_23andme: allele}\n",
    "\n",
    "for entryID, entry_info in ann_entries.items():\n",
    "\tdbSNP_ID = entry_info.get('dbSNP_ID')\n",
    "\tif dbSNP_ID in snp_entries:\n",
    "\t\t# entryID -> {entry_info dict + ALLELE_23andme: allele}\n",
    "\t\t# entryID -> {merged_info dict}\n",
    "\t\tmerged_entries[entryID] = {**entry_info, 'ALLELE_23andme': snp_entries[dbSNP_ID]}\n",
    "\n",
    "print(len(merged_entries))"
   ]
  },
  {
   "cell_type": "markdown",
   "id": "2b730070",
   "metadata": {},
   "source": [
    "## Task 2\n",
    "\n",
    "**Filter** the output so that it only contains significant associations (**SIGNIFICANCE** is **yes**) for variants that affect the drug efficacy (**PHENOTYPE_CATEGORY** is **efficacy**)."
   ]
  },
  {
   "cell_type": "code",
   "execution_count": null,
   "id": "1a1dbae2",
   "metadata": {},
   "outputs": [
    {
     "name": "stdout",
     "output_type": "stream",
     "text": [
      "1434\n"
     ]
    }
   ],
   "source": [
    "# filter for SIGNIFICANCE == 'yes' and PHENOTYPE_CATEGORY is 'efficacy'\n",
    "filtered_entries = {} # entryID -> {filtered_info dict}\n",
    "for entryID, merged_info in merged_entries.items():\n",
    "\tif merged_info.get('SIGNIFICANCE').lower() == 'yes' and merged_info.get('PHENOTYPE_CATEGORY').lower() == 'efficacy':\n",
    "\t\tfiltered_entries[entryID] = merged_info\n",
    "\n",
    "print(len(filtered_entries))"
   ]
  },
  {
   "cell_type": "markdown",
   "id": "e8f8c51f",
   "metadata": {},
   "source": [
    "## Task 3\n",
    "\n",
    "**Save** the output of the filtering step in a tab-separated file (**23andme_PharmGKB_map.tsv**) with the following columns:\n",
    "\n",
    "```\n",
    "dbSNP_ID, GENE_SYMBOL, DRUG_NAME, NOTES, SENTENCE, ALLELE_PharmGKB, ALLELE_23andme\n",
    "```"
   ]
  },
  {
   "cell_type": "code",
   "execution_count": null,
   "id": "75abde72",
   "metadata": {},
   "outputs": [
    {
     "name": "stdout",
     "output_type": "stream",
     "text": [
      "File saved as 23andme_PharmGKB_map.tsv\n"
     ]
    }
   ],
   "source": [
    "# save the output in tsv file\n",
    "output_cols = [\n",
    "\t\"dbSNP_ID\", \"GENE_SYMBOL\", \"DRUG_NAME\",\n",
    "\t\"NOTES\", \"SENTENCE\", \"ALLELE_PharmGKB\", \"ALLELE_23andme\"\n",
    "]\n",
    "\n",
    "to_tsv(\n",
    "\tfiltered_entries,\n",
    "\t\"23andme_PharmGKB_map.tsv\",\n",
    "\tsep=\"\\t\",\n",
    "\tcolumns=output_cols\n",
    ")\n",
    "\n",
    "print(\"File saved as 23andme_PharmGKB_map.tsv\")"
   ]
  },
  {
   "cell_type": "markdown",
   "id": "4b61b446",
   "metadata": {},
   "source": [
    "## Task 4\n",
    "\n",
    "**Create** a tab separated file (**23andme_PharmGKB_summary.tsv**) with summarized data with the following columns:\n",
    "\n",
    "```\n",
    "GENE_SYMBOL, DRUG_NAME, dbSNP_IDs (list of IDs separated by \";\")\n",
    "```"
   ]
  },
  {
   "cell_type": "code",
   "execution_count": null,
   "id": "d55a4e44",
   "metadata": {},
   "outputs": [],
   "source": []
  },
  {
   "cell_type": "code",
   "execution_count": null,
   "id": "ef1fab25",
   "metadata": {},
   "outputs": [],
   "source": []
  },
  {
   "cell_type": "markdown",
   "id": "c4ea4698",
   "metadata": {},
   "source": [
    "## Task 5\n",
    "\n",
    "**Plot** the distribution (histogram) of the number of drugs associated with a gene, and the number of SNPs for a gene."
   ]
  },
  {
   "cell_type": "code",
   "execution_count": null,
   "id": "a91868ca",
   "metadata": {},
   "outputs": [],
   "source": []
  },
  {
   "cell_type": "code",
   "execution_count": null,
   "id": "25066124",
   "metadata": {},
   "outputs": [],
   "source": []
  },
  {
   "cell_type": "markdown",
   "id": "ff6418ce",
   "metadata": {},
   "source": [
    "## Task 6\n",
    "\n",
    "As a team decide on a new feature for each of the team members to implement. These new features should be included in the solution and should answer a relevant biological question using the data available for the project. New data can be used for the implementation of these new features."
   ]
  },
  {
   "cell_type": "code",
   "execution_count": 6,
   "id": "ba787e15",
   "metadata": {},
   "outputs": [],
   "source": [
    "# John's New Feature"
   ]
  },
  {
   "cell_type": "code",
   "execution_count": 7,
   "id": "0aaea37f",
   "metadata": {},
   "outputs": [],
   "source": [
    "# Henry's New Feature"
   ]
  },
  {
   "cell_type": "code",
   "execution_count": 8,
   "id": "f36dcfb1",
   "metadata": {},
   "outputs": [],
   "source": [
    "# Ziyan's New Feature"
   ]
  }
 ],
 "metadata": {
  "kernelspec": {
   "display_name": "jupyter-pdf",
   "language": "python",
   "name": "python3"
  },
  "language_info": {
   "codemirror_mode": {
    "name": "ipython",
    "version": 3
   },
   "file_extension": ".py",
   "mimetype": "text/x-python",
   "name": "python",
   "nbconvert_exporter": "python",
   "pygments_lexer": "ipython3",
   "version": "3.10.18"
  }
 },
 "nbformat": 4,
 "nbformat_minor": 5
}
