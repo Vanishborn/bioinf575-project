{
 "cells": [
  {
   "cell_type": "markdown",
   "id": "c59dd3af",
   "metadata": {},
   "source": [
    "# Team15_Project1\n",
    "\n",
    "This is the deliverable ipynb file for BIOINF 575 Bioinformatics project assignment.\n",
    "\n",
    "Team 15 members: John Larson, Henry Li, Ziyan Xu\n",
    "\n",
    "Project topic: Drug Annotation of 23andme Report"
   ]
  },
  {
   "cell_type": "markdown",
   "id": "769c9771",
   "metadata": {},
   "source": [
    "## Input Data\n",
    "\n",
    "23andme_v5_hg19_ref.txt.gz - retrieved at [23andme2vcf](https://github.com/arrogantrobot/23andme2vcf)\n",
    "\n",
    "var_drug_ann.tsv - retrieved at [ClinPGx](https://www.clinpgx.org/downloads) (previously PharmGKB) as variantAnnotations.zip\n",
    "\n",
    "the file was extracted and brought to the repository root directory for ease of access"
   ]
  },
  {
   "cell_type": "markdown",
   "id": "a6beabea",
   "metadata": {},
   "source": [
    "## Task 1\n",
    "\n",
    "**Map/merge** the 23andme file and the variant-drug annotation file based on dbSNP_ID (aka rsID).\n",
    "\n",
    "The merged result should have the following columns:\n",
    "\n",
    "```\n",
    "dbSNP_ID, GENE_SYMBOL, DRUG_NAME, PMID, PHENOTYPE_CATEGORY, SIGNIFICANCE, NOTES, SENTENCE, ALLELE_PharmGKB (variant alleles in annotation), ALLELE_23andme (variant alleles in 23andme file)\n",
    "```"
   ]
  },
  {
   "cell_type": "code",
   "execution_count": null,
   "id": "3b7fbf51",
   "metadata": {},
   "outputs": [],
   "source": []
  },
  {
   "cell_type": "code",
   "execution_count": null,
   "id": "9d6bb546",
   "metadata": {},
   "outputs": [],
   "source": []
  },
  {
   "cell_type": "markdown",
   "id": "2b730070",
   "metadata": {},
   "source": [
    "## Task 2\n",
    "\n",
    "**Filter** the output so that it only contains significant associations (**SIGNIFICANCE** is **yes**) for variants that affect the drug efficacy (**PHENOTYPE_CATEGORY** is **efficacy**)."
   ]
  },
  {
   "cell_type": "code",
   "execution_count": null,
   "id": "1a1dbae2",
   "metadata": {},
   "outputs": [],
   "source": []
  },
  {
   "cell_type": "code",
   "execution_count": null,
   "id": "e89830cc",
   "metadata": {},
   "outputs": [],
   "source": []
  },
  {
   "cell_type": "markdown",
   "id": "e8f8c51f",
   "metadata": {},
   "source": [
    "## Task 3\n",
    "\n",
    "**Save** the output of the filtering step in a tab-separated file (**23andme_PharmGKB_map.tsv**) with the following columns:\n",
    "\n",
    "```\n",
    "dbSNP_ID, GENE_SYMBOL, DRUG_NAME, NOTES, SENTENCE, ALLELE_PharmGKB, ALLELE_23andme\n",
    "```"
   ]
  },
  {
   "cell_type": "code",
   "execution_count": null,
   "id": "75abde72",
   "metadata": {},
   "outputs": [],
   "source": []
  },
  {
   "cell_type": "code",
   "execution_count": null,
   "id": "10071024",
   "metadata": {},
   "outputs": [],
   "source": []
  },
  {
   "cell_type": "markdown",
   "id": "4b61b446",
   "metadata": {},
   "source": [
    "## Task 4\n",
    "\n",
    "**Create** a tab separated file (**23andme_PharmGKB_summary.tsv**) with summarized data with the following columns:\n",
    "\n",
    "```\n",
    "GENE_SYMBOL, DRUG_NAME, dbSNP_IDs (list of IDs separated by \";\")\n",
    "```"
   ]
  },
  {
   "cell_type": "code",
   "execution_count": null,
   "id": "d55a4e44",
   "metadata": {},
   "outputs": [],
   "source": []
  },
  {
   "cell_type": "code",
   "execution_count": null,
   "id": "ef1fab25",
   "metadata": {},
   "outputs": [],
   "source": []
  },
  {
   "cell_type": "markdown",
   "id": "c4ea4698",
   "metadata": {},
   "source": [
    "## Task 5\n",
    "\n",
    "**Plot** the distribution (histogram) of the number of drugs associated with a gene, and the number of SNPs for a gene."
   ]
  },
  {
   "cell_type": "code",
   "execution_count": null,
   "id": "a91868ca",
   "metadata": {},
   "outputs": [],
   "source": []
  },
  {
   "cell_type": "code",
   "execution_count": null,
   "id": "25066124",
   "metadata": {},
   "outputs": [],
   "source": []
  },
  {
   "cell_type": "markdown",
   "id": "ff6418ce",
   "metadata": {},
   "source": [
    "## Task 6\n",
    "\n",
    "As a team decide on a new feature for each of the team members to implement. These new features should be included in the solution and should answer a relevant biological question using the data available for the project. New data can be used for the implementation of these new features."
   ]
  },
  {
   "cell_type": "code",
   "execution_count": null,
   "id": "ba787e15",
   "metadata": {},
   "outputs": [],
   "source": [
    "# John's New Feature"
   ]
  },
  {
   "cell_type": "code",
   "execution_count": null,
   "id": "0aaea37f",
   "metadata": {},
   "outputs": [],
   "source": [
    "# Henry's New Feature"
   ]
  },
  {
   "cell_type": "code",
   "execution_count": null,
   "id": "f36dcfb1",
   "metadata": {},
   "outputs": [],
   "source": [
    "# Ziyan's New Feature"
   ]
  }
 ],
 "metadata": {
  "language_info": {
   "name": "python"
  }
 },
 "nbformat": 4,
 "nbformat_minor": 5
}
